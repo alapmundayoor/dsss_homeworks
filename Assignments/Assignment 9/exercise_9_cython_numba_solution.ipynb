{
 "cells": [
  {
   "cell_type": "markdown",
   "metadata": {},
   "source": [
    "# Cython and Numba"
   ]
  },
  {
   "cell_type": "code",
   "execution_count": null,
   "metadata": {},
   "outputs": [],
   "source": [
    "import Cython\n",
    "%load_ext Cython\n",
    "\n",
    "# Note: To use Cython on a Windows machine you may need to install Visual Studio to use it \n",
    "# to install the Python Extensions Package"
   ]
  },
  {
   "cell_type": "code",
   "execution_count": null,
   "metadata": {},
   "outputs": [],
   "source": [
    "from array import array\n",
    "from random import randint"
   ]
  },
  {
   "cell_type": "code",
   "execution_count": null,
   "metadata": {},
   "outputs": [],
   "source": [
    "arr = array('i', (randint(-1000, 1000) for _ in range(10000000)))"
   ]
  },
  {
   "cell_type": "code",
   "execution_count": null,
   "metadata": {},
   "outputs": [],
   "source": [
    "def sum_py(arr):\n",
    "    sum_ = 0\n",
    "    for elem in arr:\n",
    "        sum_ += elem\n",
    "    return sum_"
   ]
  },
  {
   "cell_type": "code",
   "execution_count": null,
   "metadata": {},
   "outputs": [],
   "source": [
    "%timeit -r3 -n5 sum(arr)\n",
    "%timeit -r3 -n5 sum_py(arr)"
   ]
  },
  {
   "cell_type": "code",
   "execution_count": null,
   "metadata": {},
   "outputs": [],
   "source": [
    "%%cython --annotate\n",
    "def sum_cy(arr):\n",
    "    sum_ = 0\n",
    "    for elem in arr:\n",
    "        sum_ += elem\n",
    "    return sum_"
   ]
  },
  {
   "cell_type": "code",
   "execution_count": null,
   "metadata": {},
   "outputs": [],
   "source": [
    "%timeit -r3 -n5 sum(arr)\n",
    "%timeit -r3 -n5 sum_cy(arr)"
   ]
  },
  {
   "cell_type": "markdown",
   "metadata": {},
   "source": [
    "### Static Typing"
   ]
  },
  {
   "cell_type": "code",
   "execution_count": null,
   "metadata": {},
   "outputs": [],
   "source": [
    "%%cython\n",
    "def sum_cy_st(arr):\n",
    "    cdef int sum_ = 0\n",
    "    for elem in arr:b\n",
    "        sum_ += elem\n",
    "    return sum_"
   ]
  },
  {
   "cell_type": "code",
   "execution_count": null,
   "metadata": {},
   "outputs": [],
   "source": [
    "%timeit -r3 -n5 sum(arr)\n",
    "%timeit -r3 -n5 sum_cy_st(arr)"
   ]
  },
  {
   "cell_type": "markdown",
   "metadata": {},
   "source": [
    "#### Typed Memoryviews"
   ]
  },
  {
   "cell_type": "code",
   "execution_count": null,
   "metadata": {},
   "outputs": [],
   "source": [
    "%%cython\n",
    "def sum_cy_tm_1(int[:] arr):\n",
    "    cdef int sum_ = 0\n",
    "    for elem in arr:\n",
    "        sum_ += elem\n",
    "    return sum_"
   ]
  },
  {
   "cell_type": "code",
   "execution_count": null,
   "metadata": {},
   "outputs": [],
   "source": [
    "%timeit -r3 -n5 sum(arr)\n",
    "%timeit -r3 -n5 sum_cy_st(arr)\n",
    "%timeit -r2 -n3 sum_cy_tm_1(arr)"
   ]
  },
  {
   "cell_type": "markdown",
   "metadata": {},
   "source": [
    "### With C-like looping"
   ]
  },
  {
   "cell_type": "code",
   "execution_count": null,
   "metadata": {},
   "outputs": [],
   "source": [
    "%%cython\n",
    "from cpython cimport array\n",
    "def sum_cy_tm_2(int[:] arr):\n",
    "    cdef int i, n = arr.shape[0], sum_ = 0\n",
    "    for i in range(n):\n",
    "        sum_ += arr[i]\n",
    "    return sum_"
   ]
  },
  {
   "cell_type": "code",
   "execution_count": null,
   "metadata": {},
   "outputs": [],
   "source": [
    "%timeit -r3 -n5 sum(arr)\n",
    "%timeit -r3 -n5 sum_cy_st(arr)\n",
    "%timeit -r3 -n5 sum_cy_tm_2(arr)"
   ]
  },
  {
   "cell_type": "markdown",
   "metadata": {},
   "source": [
    "### Compile Optimizations"
   ]
  },
  {
   "cell_type": "code",
   "execution_count": null,
   "metadata": {},
   "outputs": [],
   "source": [
    "%%cython\n",
    "cimport cython\n",
    "from cpython cimport array\n",
    "\n",
    "@cython.boundscheck(False)  # just read from/write to memory without checking if an index is in a given range\n",
    "@cython.wraparound(False)  # using negative indices is not possible anymore\n",
    "# see also: https://docs.cython.org/en/latest/src/userguide/source_files_and_compilation.html#compiler-directives\n",
    "def sum_cy_co(int[::1] arr):\n",
    "    cdef int i, n = arr.shape[0], sum_ = 0\n",
    "    for i in range(n):\n",
    "        sum_ += arr[i]\n",
    "    return sum_"
   ]
  },
  {
   "cell_type": "code",
   "execution_count": null,
   "metadata": {},
   "outputs": [],
   "source": [
    "%timeit -r3 -n5 sum(arr)\n",
    "%timeit -r3 -n5 sum_cy_co(arr)"
   ]
  },
  {
   "cell_type": "code",
   "execution_count": null,
   "metadata": {},
   "outputs": [],
   "source": [
    "# With Memory view layout --> int[::1] when passing an array as function argument\n",
    "# see also: https://cython.readthedocs.io/en/latest/src/userguide/memoryviews.html\n",
    "%timeit -r3 -n5 sum(arr)\n",
    "%timeit -r3 -n5 sum_cy_co(arr)"
   ]
  },
  {
   "cell_type": "markdown",
   "metadata": {},
   "source": [
    "### Together with Multithreading"
   ]
  },
  {
   "cell_type": "code",
   "execution_count": null,
   "metadata": {},
   "outputs": [],
   "source": [
    "%%cython\n",
    "cimport cython\n",
    "from cpython cimport array\n",
    "\n",
    "@cython.boundscheck(False)\n",
    "@cython.wraparound(False)\n",
    "def _sum_gil(int[::1] arr, int[:] out):\n",
    "    cdef int i, n = arr.shape[0], sum_ = 0\n",
    "    \n",
    "    #with nogil:\n",
    "    for i in range(n):\n",
    "        sum_ += arr[i]\n",
    "        \n",
    "    out[0] = sum_\n",
    "      \n",
    "def sum_threads(int[::1] arr):\n",
    "    cdef int[::1] arr1 = arr[0 : arr.shape[0]//2]\n",
    "    cdef int[::1] arr2 = arr[arr.shape[0]//2 : arr.shape[0]]\n",
    "    cdef int[:] out = array.array('i', (0, 0))\n",
    "    \n",
    "    from threading import Thread\n",
    "    t1 = Thread(target=_sum_gil, args=(arr1, out[0:1]))\n",
    "    t2 = Thread(target=_sum_gil, args=(arr2, out[1:2]))\n",
    "    \n",
    "    t1.start(); t2.start()\n",
    "    t1.join(); t2.join()\n",
    "    \n",
    "    return out[0] + out[1]"
   ]
  },
  {
   "cell_type": "code",
   "execution_count": null,
   "metadata": {},
   "outputs": [],
   "source": [
    "# with GIL\n",
    "%timeit -r3 -n5 sum(arr)\n",
    "%timeit -r3 -n5 sum_threads(arr)"
   ]
  },
  {
   "cell_type": "code",
   "execution_count": null,
   "metadata": {},
   "outputs": [],
   "source": [
    "# with GIL released (use 'with nogil' statement)\n",
    "%timeit -r3 -n5 sum(arr)\n",
    "%timeit -r3 -n5 sum_threads(arr)"
   ]
  },
  {
   "cell_type": "markdown",
   "metadata": {},
   "source": [
    "### Numpy (Vecotrization)"
   ]
  },
  {
   "cell_type": "code",
   "execution_count": null,
   "metadata": {},
   "outputs": [],
   "source": [
    "import numpy as np\n",
    "\n",
    "np_arr = np.asarray(arr)\n",
    "\n",
    "%timeit -r3 -n5 sum(np_arr)\n",
    "%timeit -r3 -n5 np_arr.sum()\n",
    "%timeit -r3 -n5 sum_cy_co(np_arr)"
   ]
  },
  {
   "cell_type": "markdown",
   "metadata": {},
   "source": [
    "### Proof that they are all working"
   ]
  },
  {
   "cell_type": "code",
   "execution_count": null,
   "metadata": {},
   "outputs": [],
   "source": [
    "(sum_py(arr), sum_cy(arr), sum(arr), sum_cy_st(arr), sum_cy_tm_1(arr), sum_cy_tm_2(arr), sum_cy_co(arr), sum_threads(arr), np_arr.sum())"
   ]
  },
  {
   "cell_type": "markdown",
   "metadata": {},
   "source": [
    "## Numba"
   ]
  },
  {
   "cell_type": "code",
   "execution_count": null,
   "metadata": {},
   "outputs": [],
   "source": [
    "import os\n",
    "os.environ['NUMBA_NUM_THREADS'] = '10'\n",
    "import numba as nb\n",
    "import numpy as np"
   ]
  },
  {
   "cell_type": "code",
   "execution_count": null,
   "metadata": {},
   "outputs": [],
   "source": [
    "arr_nb = np.random.random((4096,4096))"
   ]
  },
  {
   "cell_type": "code",
   "execution_count": null,
   "metadata": {},
   "outputs": [],
   "source": [
    "def py_sum2d(arr):\n",
    "    result = 0.0\n",
    "    for i in range(arr.shape[0]):\n",
    "        for j in range(arr.shape[1]):\n",
    "            result += arr[i, j]\n",
    "    return result\n",
    "\n",
    "@nb.jit\n",
    "def nb_sum2d(arr):\n",
    "    result = 0.0\n",
    "    for i in range(arr.shape[0]):\n",
    "        for j in range(arr.shape[1]):\n",
    "            result += arr[i, j]\n",
    "    return result"
   ]
  },
  {
   "cell_type": "code",
   "execution_count": null,
   "metadata": {},
   "outputs": [],
   "source": [
    "%timeit -r1 -n1 py_sum2d(arr_nb)\n",
    "%timeit -r1 -n1 nb_sum2d(arr_nb)  # --> first call is slow"
   ]
  },
  {
   "cell_type": "code",
   "execution_count": null,
   "metadata": {},
   "outputs": [],
   "source": [
    "%timeit -r1 -n1 py_sum2d(arr_nb)\n",
    "%timeit -r1 -n1 nb_sum2d(arr_nb)  # --> first call is slow"
   ]
  },
  {
   "cell_type": "code",
   "execution_count": null,
   "metadata": {},
   "outputs": [],
   "source": [
    "@nb.jit(nopython=True)\n",
    "#@nb.njit\n",
    "def nb_sum2d_nopython(arr):\n",
    "    result = 0.0\n",
    "    for i in range(arr.shape[0]):\n",
    "        for j in range(arr.shape[1]):\n",
    "            result += arr[i, j]\n",
    "    return result"
   ]
  },
  {
   "cell_type": "code",
   "execution_count": null,
   "metadata": {},
   "outputs": [],
   "source": [
    "%timeit -r5 -n10 nb_sum2d(arr_nb)\n",
    "%timeit -r5 -n10 nb_sum2d_nopython(arr_nb)"
   ]
  },
  {
   "cell_type": "code",
   "execution_count": null,
   "metadata": {},
   "outputs": [],
   "source": [
    "@nb.jit(nopython=True, parallel=True)\n",
    "def nb_sum2d_parallel(arr):\n",
    "    result = 0.0\n",
    "    for i in nb.prange(arr.shape[0]):\n",
    "        for j in nb.prange(arr.shape[1]):\n",
    "            result += arr[i, j]\n",
    "    return result"
   ]
  },
  {
   "cell_type": "code",
   "execution_count": null,
   "metadata": {},
   "outputs": [],
   "source": [
    "%timeit -r5 -n10 nb_sum2d(arr_nb)\n",
    "%timeit -r5 -n10 nb_sum2d_parallel(arr_nb)  # --> add nb.prange (https://numba.pydata.org/numba-doc/0.11/prange.html)"
   ]
  },
  {
   "cell_type": "code",
   "execution_count": null,
   "metadata": {},
   "outputs": [],
   "source": [
    "nb_sum2d_parallel.parallel_diagnostics(level=1)"
   ]
  }
 ],
 "metadata": {
  "kernelspec": {
   "display_name": "base",
   "language": "python",
   "name": "python3"
  },
  "language_info": {
   "codemirror_mode": {
    "name": "ipython",
    "version": 3
   },
   "file_extension": ".py",
   "mimetype": "text/x-python",
   "name": "python",
   "nbconvert_exporter": "python",
   "pygments_lexer": "ipython3",
   "version": "3.9.7"
  }
 },
 "nbformat": 4,
 "nbformat_minor": 2
}
